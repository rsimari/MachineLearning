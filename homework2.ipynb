{
 "cells": [
  {
   "cell_type": "code",
   "execution_count": 77,
   "metadata": {},
   "outputs": [],
   "source": [
    "\"\"\" \n",
    "    Naive Bayes Classifier program by Robert Simari <rsimari> \n",
    "    Date: 2/9/18\n",
    "    Tables and Probabilities are displayed below\n",
    "\"\"\"\n",
    "\n",
    "data_file = \"tic-tac-toe\"\n",
    "\"\"\"\n",
    "    tic-tac-toe board locations in data structure\n",
    "    0 1 2\n",
    "    3 4 5\n",
    "    6 7 8\n",
    "    result = 9\n",
    "\"\"\"\n",
    "data = []\n",
    "with open(data_file + \".data\") as f:\n",
    "    line = f.readline().rstrip()\n",
    "    while line:\n",
    "        data.append(line.split())\n",
    "        line = f.readline().rstrip()\n",
    "\n",
    "        \n",
    "def compute_probability(data, index, feature = True):\n",
    "    \"\"\"\n",
    "        @param [list[list], int, bool]: data is a 2 array of data, index is the number of feature you want,\n",
    "        feature is whether or not it should compute it as a feature or not\n",
    "        @return [dict]: returns dictionary of values i.e. {\"x\": {\"positive\": 0.3, \"negative\": 0.2}, ... }\n",
    "    \"\"\"\n",
    "    if index < 0 or index >= len(data[0]):\n",
    "        raise Exception(\"Error: Index out of bounds in compute_probability\")\n",
    "    \n",
    "    res = {}\n",
    "    \n",
    "    \"\"\" this means that they are doing probability for a feature \"\"\"\n",
    "    if feature:    \n",
    "        for instance in data:\n",
    "            result = instance[9]\n",
    "            feature_val = instance[index]\n",
    "            if feature_val in res:\n",
    "                if result in res[feature_val]:\n",
    "                    res[feature_val][result] += 1\n",
    "                else:\n",
    "                    res[feature_val][result] = 1\n",
    "            else:\n",
    "                res[feature_val] = {}\n",
    "                res[feature_val][result] = 1\n",
    "    else:\n",
    "        \"\"\" doing probability for a result \"\"\"\n",
    "        for instance in data:\n",
    "            result = instance[index]\n",
    "            if result in res:\n",
    "                res[result] += 1\n",
    "            else:\n",
    "                res[result] = 1\n",
    "    \n",
    "    if feature:\n",
    "        \"\"\" turns all values into probabilities \"\"\"\n",
    "        outcomes = list(res[list(res)[0]])\n",
    "        for i in outcomes:\n",
    "            total_outcome = 0\n",
    "            for key in res:\n",
    "                total_outcome += res[key][i]\n",
    "            for key in res:\n",
    "                res[key][i] = res[key][i] / total_outcome\n",
    "            \"\"\" sanity check for total probability \"\"\"\n",
    "            total_prob = 0\n",
    "            for key in res:\n",
    "                total_prob += res[key][i]\n",
    "            if total_prob != 1:\n",
    "                raise Exception(\"Warning: Probabilities did not sum to 1\")\n",
    "    else:\n",
    "        \"\"\" turns all outcome values into probabilities \"\"\"\n",
    "        outcomes = list(res)\n",
    "        total_outcome = 0\n",
    "        for i in outcomes:\n",
    "            total_outcome += res[i]\n",
    "        for i in outcomes:\n",
    "            res[i] = res[i] / total_outcome\n",
    "        \"\"\" sanity check for outcome \"\"\"\n",
    "        total_prob = 0\n",
    "        for i in outcomes:\n",
    "            total_prob += res[i]\n",
    "        if total_prob != 1:\n",
    "            raise Exception(\"Warning: Probabilities did not sum to 1\")\n",
    "\n",
    "    return res"
   ]
  },
  {
   "cell_type": "code",
   "execution_count": 97,
   "metadata": {},
   "outputs": [],
   "source": [
    "p_outcome = compute_probability(data, 9, False)"
   ]
  },
  {
   "cell_type": "code",
   "execution_count": 105,
   "metadata": {},
   "outputs": [],
   "source": [
    "top_left      = compute_probability(data, 0)\n",
    "top_middle    = compute_probability(data, 1)\n",
    "top_right     = compute_probability(data, 2)\n",
    "middle_left   = compute_probability(data, 3)\n",
    "middle_middle = compute_probability(data, 4)\n",
    "middle_right  = compute_probability(data, 5)\n",
    "bottom_left   = compute_probability(data, 6)\n",
    "bottom_middle = compute_probability(data, 7)\n",
    "bottom_right  = compute_probability(data, 8)\n",
    "\n",
    "feature_data = [top_left, top_middle, top_right, middle_left, middle_middle, middle_right, bottom_left, bottom_middle, bottom_right]"
   ]
  },
  {
   "cell_type": "code",
   "execution_count": 102,
   "metadata": {},
   "outputs": [],
   "source": [
    "from IPython.display import display, Markdown\n",
    "def display_feature_table(probs, name):\n",
    "    \"\"\"\n",
    "        @param [dict[dict], string]: probabilities from compute_probabilities, name of table\n",
    "        @returns [None]\n",
    "    \"\"\"\n",
    "    feature_vals = list(probs)\n",
    "    outcomes = list(probs[list(probs)[0]])\n",
    "    display(Markdown(\"\"\"| \"\"\" + name + \"\"\" | \"\"\" + outcomes[0] + \"\"\" | \"\"\" + outcomes[1] + \"\"\" |\n",
    "| --- | --- | --- |\n",
    "| \"\"\" + feature_vals[0] + \"\"\" | \"\"\" + str(probs[feature_vals[0]][outcomes[0]]) + \"\"\" | \"\"\" + str(probs[feature_vals[0]][outcomes[1]]) + \"\"\" |\n",
    "| \"\"\" + feature_vals[1] + \"\"\" | \"\"\" + str(probs[feature_vals[1]][outcomes[0]]) + \"\"\" | \"\"\" + str(probs[feature_vals[1]][outcomes[1]]) + \"\"\" |\n",
    "| \"\"\" + feature_vals[2] + \"\"\" | \"\"\" + str(probs[feature_vals[2]][outcomes[0]]) + \"\"\" | \"\"\" + str(probs[feature_vals[2]][outcomes[1]]) + \"\"\" |\n",
    "    \"\"\"))\n",
    "    \n",
    "def display_outcome_table(probs, name):\n",
    "    \"\"\"\n",
    "        @param [dict, string]: probabilities of outcomes, name of table\n",
    "        @returns [None]\n",
    "    \"\"\"\n",
    "    outcomes = list(probs)\n",
    "    display(Markdown(\"\"\"| \"\"\" + name + \"\"\" | \"\"\" + outcomes[0] + \"\"\" | \"\"\" + outcomes[1] + \"\"\" |\n",
    "| --- | --- | --- |\n",
    "|  | \"\"\" + str(probs[outcomes[0]]) + \"\"\" | \"\"\" + str(probs[outcomes[1]]) + \"\"\" | \"\"\"))"
   ]
  },
  {
   "cell_type": "code",
   "execution_count": 96,
   "metadata": {},
   "outputs": [
    {
     "data": {
      "text/markdown": [
       "| Top-Left-Square | positive | negative |\n",
       "| --- | --- | --- |\n",
       "| x | 0.46178861788617886 | 0.37383177570093457 |\n",
       "| o | 0.3073170731707317 | 0.4392523364485981 |\n",
       "| b | 0.23089430894308943 | 0.18691588785046728 |\n",
       "    "
      ],
      "text/plain": [
       "<IPython.core.display.Markdown object>"
      ]
     },
     "metadata": {},
     "output_type": "display_data"
    },
    {
     "data": {
      "text/markdown": [
       "| Top-Middle-Square | positive | negative |\n",
       "| --- | --- | --- |\n",
       "| x | 0.34796747967479674 | 0.45482866043613707 |\n",
       "| o | 0.3723577235772358 | 0.3115264797507788 |\n",
       "| b | 0.27967479674796747 | 0.2336448598130841 |\n",
       "    "
      ],
      "text/plain": [
       "<IPython.core.display.Markdown object>"
      ]
     },
     "metadata": {},
     "output_type": "display_data"
    },
    {
     "data": {
      "text/markdown": [
       "| Top-Right-Square | positive | negative |\n",
       "| --- | --- | --- |\n",
       "| x | 0.46178861788617886 | 0.37694704049844235 |\n",
       "| o | 0.3073170731707317 | 0.42679127725856697 |\n",
       "| b | 0.23089430894308943 | 0.19626168224299065 |\n",
       "    "
      ],
      "text/plain": [
       "<IPython.core.display.Markdown object>"
      ]
     },
     "metadata": {},
     "output_type": "display_data"
    },
    {
     "data": {
      "text/markdown": [
       "| Middle-Left-Square | positive | negative |\n",
       "| --- | --- | --- |\n",
       "| x | 0.35609756097560974 | 0.46105919003115264 |\n",
       "| o | 0.3723577235772358 | 0.30218068535825543 |\n",
       "| b | 0.27154471544715447 | 0.2367601246105919 |\n",
       "    "
      ],
      "text/plain": [
       "<IPython.core.display.Markdown object>"
      ]
     },
     "metadata": {},
     "output_type": "display_data"
    },
    {
     "data": {
      "text/markdown": [
       "| Middle-Middle-Square | positive | negative |\n",
       "| --- | --- | --- |\n",
       "| o | 0.22439024390243903 | 0.5825545171339563 |\n",
       "| b | 0.18048780487804877 | 0.14641744548286603 |\n",
       "| x | 0.5951219512195122 | 0.27102803738317754 |\n",
       "    "
      ],
      "text/plain": [
       "<IPython.core.display.Markdown object>"
      ]
     },
     "metadata": {},
     "output_type": "display_data"
    },
    {
     "data": {
      "text/markdown": [
       "| Middle-Right-Square | positive | negative |\n",
       "| --- | --- | --- |\n",
       "| o | 0.3642276422764228 | 0.29906542056074764 |\n",
       "| b | 0.27479674796747966 | 0.24299065420560748 |\n",
       "| x | 0.36097560975609755 | 0.45794392523364486 |\n",
       "    "
      ],
      "text/plain": [
       "<IPython.core.display.Markdown object>"
      ]
     },
     "metadata": {},
     "output_type": "display_data"
    },
    {
     "data": {
      "text/markdown": [
       "| Bottom-Left-Square | positive | negative |\n",
       "| --- | --- | --- |\n",
       "| x | 0.4764227642276423 | 0.3582554517133956 |\n",
       "| o | 0.2991869918699187 | 0.4454828660436137 |\n",
       "| b | 0.22439024390243903 | 0.19626168224299065 |\n",
       "    "
      ],
      "text/plain": [
       "<IPython.core.display.Markdown object>"
      ]
     },
     "metadata": {},
     "output_type": "display_data"
    },
    {
     "data": {
      "text/markdown": [
       "| Bottom-Middle-Square | positive | negative |\n",
       "| --- | --- | --- |\n",
       "| o | 0.36097560975609755 | 0.29906542056074764 |\n",
       "| x | 0.36585365853658536 | 0.45794392523364486 |\n",
       "| b | 0.2731707317073171 | 0.24299065420560748 |\n",
       "    "
      ],
      "text/plain": [
       "<IPython.core.display.Markdown object>"
      ]
     },
     "metadata": {},
     "output_type": "display_data"
    },
    {
     "data": {
      "text/markdown": [
       "| Bottom-Right-Square | positive | negative |\n",
       "| --- | --- | --- |\n",
       "| o | 0.2975609756097561 | 0.4423676012461059 |\n",
       "| x | 0.4796747967479675 | 0.3613707165109034 |\n",
       "| b | 0.22276422764227644 | 0.19626168224299065 |\n",
       "    "
      ],
      "text/plain": [
       "<IPython.core.display.Markdown object>"
      ]
     },
     "metadata": {},
     "output_type": "display_data"
    }
   ],
   "source": [
    "display_feature_table(top_left, \"Top-Left-Square\")\n",
    "display_feature_table(top_middle, \"Top-Middle-Square\")\n",
    "display_feature_table(top_right, \"Top-Right-Square\")\n",
    "display_feature_table(middle_left, \"Middle-Left-Square\")\n",
    "display_feature_table(middle_middle, \"Middle-Middle-Square\")\n",
    "display_feature_table(middle_right, \"Middle-Right-Square\")\n",
    "display_feature_table(bottom_left, \"Bottom-Left-Square\")\n",
    "display_feature_table(bottom_middle, \"Bottom-Middle-Square\")\n",
    "display_feature_table(bottom_right, \"Bottom-Right-Square\")"
   ]
  },
  {
   "cell_type": "code",
   "execution_count": 103,
   "metadata": {},
   "outputs": [
    {
     "data": {
      "text/markdown": [
       "| Game Outcome | positive | negative |\n",
       "| --- | --- | --- |\n",
       "|  | 0.657051282051282 | 0.34294871794871795 | "
      ],
      "text/plain": [
       "<IPython.core.display.Markdown object>"
      ]
     },
     "metadata": {},
     "output_type": "display_data"
    }
   ],
   "source": [
    "display_outcome_table(p_outcome, \"Game Outcome\")"
   ]
  },
  {
   "cell_type": "code",
   "execution_count": 115,
   "metadata": {},
   "outputs": [],
   "source": [
    "def compute_naive_bayes(outcome, given, outcome_probs, feature_probs):\n",
    "    \"\"\" \n",
    "        @param [string, list, dict, dict[dict]]: desired outcome, list of feature values, outcome probabilities, feature probabilities\n",
    "        @return [dict]: computes naive bayes probability for a desired outcome given a set of feature values\n",
    "        e.g. P(Positive | 'xob') * P('x' | Positive) * P('o' | Positive) * P('b' | Positive)\n",
    "    \"\"\"\n",
    "    product = 1\n",
    "    \n",
    "    if not outcome in outcome_probs:\n",
    "        raise Exception(\"Unknown/Unobserved Outcome\")\n",
    "\n",
    "    # multiply by P(outcome)\n",
    "    product *= outcome_probs[outcome]\n",
    "    \n",
    "    # multiply by P(feature_value | outcome) for every given feature value\n",
    "    for i in range(len(given)):\n",
    "        try:\n",
    "            product *= feature_probs[i][given[i]][outcome]\n",
    "        except KeyError:\n",
    "            raise Exception(\"Invalid Feature Input\")\n",
    "    \n",
    "    return product"
   ]
  },
  {
   "cell_type": "code",
   "execution_count": 136,
   "metadata": {},
   "outputs": [
    {
     "name": "stdout",
     "output_type": "stream",
     "text": [
      "Test Case: x x x x o o b b o negative\n",
      "Fail\n",
      "Probability of positive 0.4099727605238359\n",
      "Probability of negative 0.5900272394761641\n",
      "\n",
      "Test Case: x x x x o b o o b negative\n",
      "Fail\n",
      "Probability of positive 0.407103439238352\n",
      "Probability of negative 0.5928965607616481\n",
      "\n",
      "Test Case: x x x x o b o b o negative\n",
      "Fail\n",
      "Probability of positive 0.27483789172536444\n",
      "Probability of negative 0.7251621082746356\n",
      "\n",
      "Test Case: x x x x o b b o o negative\n",
      "Fail\n",
      "Probability of positive 0.4092390676164827\n",
      "Probability of negative 0.5907609323835173\n",
      "\n",
      "Test Case: x x x x b o o o b negative\n",
      "Success\n",
      "Probability of positive 0.7029515799375481\n",
      "Probability of negative 0.29704842006245197\n",
      "\n",
      "Test Case: x x x b o x o o b negative\n",
      "Fail\n",
      "Probability of positive 0.41544595092262887\n",
      "Probability of negative 0.5845540490773713\n",
      "\n",
      "Test Case: x x x b o x o b o negative\n",
      "Fail\n",
      "Probability of positive 0.2817580299115309\n",
      "Probability of negative 0.718241970088469\n",
      "\n",
      "Test Case: x x x b o x b o o negative\n",
      "Fail\n",
      "Probability of positive 0.41759451904756556\n",
      "Probability of negative 0.5824054809524345\n",
      "\n",
      "Test Case: x x x b o o x o b negative\n",
      "Success\n",
      "Probability of positive 0.6849696819017491\n",
      "Probability of negative 0.31503031809825083\n",
      "\n",
      "Test Case: x x x b o o x b o negative\n",
      "Success\n",
      "Probability of positive 0.5454850402788264\n",
      "Probability of negative 0.45451495972117356\n",
      "\n",
      "Test Case: b b o x b o x x o negative\n",
      "Fail\n",
      "Probability of positive 0.6282958933763515\n",
      "Probability of negative 0.3717041066236485\n",
      "\n",
      "Test Case: b b o b x o x x o negative\n",
      "Fail\n",
      "Probability of positive 0.8172247255352086\n",
      "Probability of negative 0.18277527446479142\n",
      "\n",
      "Test Case: b b o b o x o x x negative\n",
      "Success\n",
      "Probability of positive 0.3359489609682355\n",
      "Probability of negative 0.6640510390317645\n",
      "\n",
      "Test Case: x x o o x x x o o negative\n",
      "Fail\n",
      "Probability of positive 0.750143659913948\n",
      "Probability of negative 0.24985634008605184\n",
      "\n",
      "Test Case: x x o o o x x x o negative\n",
      "Success\n",
      "Probability of positive 0.2584840082466212\n",
      "Probability of negative 0.7415159917533789\n",
      "\n",
      "Test Case: x x o o o x x o x negative\n",
      "Fail\n",
      "Probability of positive 0.5096299453261283\n",
      "Probability of negative 0.4903700546738716\n",
      "\n",
      "Test Case: o x x x o o o x x negative\n",
      "Success\n",
      "Probability of positive 0.24481453317175267\n",
      "Probability of negative 0.7551854668282473\n",
      "\n",
      "Test Case: o x o x x o x o x negative\n",
      "Fail\n",
      "Probability of positive 0.7646799391118179\n",
      "Probability of negative 0.23532006088818214\n",
      "\n",
      "Test Case: o x o x o x x o x negative\n",
      "Success\n",
      "Probability of positive 0.2695075689995334\n",
      "Probability of negative 0.7304924310004666\n",
      "\n",
      "Test Case: o x o o x x x o x negative\n",
      "Fail\n",
      "Probability of positive 0.7704067436196066\n",
      "Probability of negative 0.22959325638039335\n",
      "\n",
      "Test Case: o o x x x o o x x negative\n",
      "Fail\n",
      "Probability of positive 0.7427478937964088\n",
      "Probability of negative 0.2572521062035912\n",
      "\n"
     ]
    }
   ],
   "source": [
    "with open(data_file + '.test') as f:\n",
    "    line = f.readline().rstrip().split()\n",
    "    while line:\n",
    "        desired_outcome = line[-1]\n",
    "        if desired_outcome == 'positive':\n",
    "            opposite = 'negative'\n",
    "        else:\n",
    "            opposite = 'positive'\n",
    "            \n",
    "        feature_vals = line[0:len(line)-1]\n",
    "\n",
    "        pos = compute_naive_bayes('positive', feature_vals, p_outcome, feature_data)\n",
    "        neg  = compute_naive_bayes('negative', feature_vals, p_outcome, feature_data)\n",
    "        \n",
    "        if pos > neg:\n",
    "            prediction = 'positive'\n",
    "        else:\n",
    "            prediction = 'negative'\n",
    "            \n",
    "        print('Test Case: ' + ' '.join(feature_vals), outcome)\n",
    "        \n",
    "        if desired_outcome == prediction:\n",
    "            print(\"Success\")\n",
    "        else:\n",
    "            print(\"Fail\")\n",
    "        \n",
    "        print('Probability of positive ' + str(pos/(pos + neg)))\n",
    "        print('Probability of negative ' + str(neg/(pos + neg)))\n",
    "        print()\n",
    "        \n",
    "        line = f.readline().rstrip().split()\n"
   ]
  },
  {
   "cell_type": "code",
   "execution_count": null,
   "metadata": {},
   "outputs": [],
   "source": []
  }
 ],
 "metadata": {
  "kernelspec": {
   "display_name": "Python 3",
   "language": "python",
   "name": "python3"
  },
  "language_info": {
   "codemirror_mode": {
    "name": "ipython",
    "version": 3
   },
   "file_extension": ".py",
   "mimetype": "text/x-python",
   "name": "python",
   "nbconvert_exporter": "python",
   "pygments_lexer": "ipython3",
   "version": "3.6.4"
  }
 },
 "nbformat": 4,
 "nbformat_minor": 2
}
